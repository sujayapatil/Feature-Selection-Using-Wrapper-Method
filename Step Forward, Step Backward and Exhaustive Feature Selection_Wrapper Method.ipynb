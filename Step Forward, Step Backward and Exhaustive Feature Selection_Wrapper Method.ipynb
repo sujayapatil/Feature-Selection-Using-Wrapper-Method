{
 "cells": [
  {
   "cell_type": "markdown",
   "metadata": {},
   "source": [
    "## Wrapping method\n"
   ]
  },
  {
   "cell_type": "markdown",
   "metadata": {},
   "source": [
    "### Uses of Wrapping method\n",
    "    Use combinations of variables to determine predictive power.\n",
    "\n",
    "    To find the best combination of variables.\n",
    "\n",
    "    Computationally expensive than filter method.\n",
    "\n",
    "    To perform better than filter method.\n",
    "\n",
    "    Not recommended on high number of features."
   ]
  },
  {
   "cell_type": "markdown",
   "metadata": {},
   "source": [
    "### TYPES OF WRAPPER METHOD:\n",
    "\n",
    "    Exhaustive Feature Selection\n",
    "\n",
    "    Step Forward Selection\n",
    "\n",
    "    Step Backward Selection \n"
   ]
  },
  {
   "cell_type": "markdown",
   "metadata": {},
   "source": [
    "#### Use of mlxtend in Wrapper Method"
   ]
  },
  {
   "cell_type": "code",
   "execution_count": 2,
   "metadata": {},
   "outputs": [
    {
     "name": "stdout",
     "output_type": "stream",
     "text": [
      "Collecting mlxtend\n",
      "  Downloading https://files.pythonhosted.org/packages/86/30/781c0b962a70848db83339567ecab656638c62f05adb064cb33c0ae49244/mlxtend-0.18.0-py2.py3-none-any.whl (1.3MB)\n",
      "Requirement already satisfied: matplotlib>=3.0.0 in d:\\data science\\new folder\\lib\\site-packages (from mlxtend) (3.1.1)\n",
      "Requirement already satisfied: numpy>=1.16.2 in d:\\data science\\new folder\\lib\\site-packages (from mlxtend) (1.16.5)\n",
      "Requirement already satisfied: scikit-learn>=0.20.3 in d:\\data science\\new folder\\lib\\site-packages (from mlxtend) (0.21.3)\n",
      "Requirement already satisfied: setuptools in d:\\data science\\new folder\\lib\\site-packages (from mlxtend) (41.4.0)\n",
      "Requirement already satisfied: pandas>=0.24.2 in d:\\data science\\new folder\\lib\\site-packages (from mlxtend) (0.25.1)\n",
      "Requirement already satisfied: joblib>=0.13.2 in d:\\data science\\new folder\\lib\\site-packages (from mlxtend) (0.13.2)\n",
      "Requirement already satisfied: scipy>=1.2.1 in d:\\data science\\new folder\\lib\\site-packages (from mlxtend) (1.3.1)\n",
      "Requirement already satisfied: cycler>=0.10 in d:\\data science\\new folder\\lib\\site-packages (from matplotlib>=3.0.0->mlxtend) (0.10.0)\n",
      "Requirement already satisfied: kiwisolver>=1.0.1 in d:\\data science\\new folder\\lib\\site-packages (from matplotlib>=3.0.0->mlxtend) (1.1.0)\n",
      "Requirement already satisfied: pyparsing!=2.0.4,!=2.1.2,!=2.1.6,>=2.0.1 in d:\\data science\\new folder\\lib\\site-packages (from matplotlib>=3.0.0->mlxtend) (2.4.2)\n",
      "Requirement already satisfied: python-dateutil>=2.1 in d:\\data science\\new folder\\lib\\site-packages (from matplotlib>=3.0.0->mlxtend) (2.8.0)\n",
      "Requirement already satisfied: pytz>=2017.2 in d:\\data science\\new folder\\lib\\site-packages (from pandas>=0.24.2->mlxtend) (2019.3)\n",
      "Requirement already satisfied: six in d:\\data science\\new folder\\lib\\site-packages (from cycler>=0.10->matplotlib>=3.0.0->mlxtend) (1.12.0)\n",
      "Installing collected packages: mlxtend\n",
      "Successfully installed mlxtend-0.18.0\n"
     ]
    }
   ],
   "source": [
    "!pip install mlxtend"
   ]
  },
  {
   "cell_type": "markdown",
   "metadata": {},
   "source": [
    "More Information Available at http://rasbt.github.io/mlxtend/"
   ]
  },
  {
   "cell_type": "code",
   "execution_count": 3,
   "metadata": {},
   "outputs": [],
   "source": [
    "import numpy as np\n",
    "import pandas as pd\n",
    "import seaborn as sns\n",
    "import matplotlib.pyplot as plt\n",
    "%matplotlib inline"
   ]
  },
  {
   "cell_type": "code",
   "execution_count": 4,
   "metadata": {},
   "outputs": [],
   "source": [
    "from sklearn.model_selection import train_test_split\n",
    "from sklearn.ensemble import RandomForestRegressor, RandomForestClassifier\n",
    "from sklearn.metrics import roc_auc_score\n",
    "from mlxtend.feature_selection import SequentialFeatureSelector as SFS"
   ]
  },
  {
   "cell_type": "code",
   "execution_count": 5,
   "metadata": {},
   "outputs": [],
   "source": [
    "from sklearn.datasets import load_wine\n",
    "from sklearn.preprocessing import StandardScaler"
   ]
  },
  {
   "cell_type": "code",
   "execution_count": 6,
   "metadata": {},
   "outputs": [],
   "source": [
    "#LOADING WINE DATASET:\n",
    "data = load_wine()"
   ]
  },
  {
   "cell_type": "code",
   "execution_count": 7,
   "metadata": {},
   "outputs": [
    {
     "data": {
      "text/plain": [
       "dict_keys(['data', 'target', 'target_names', 'DESCR', 'feature_names'])"
      ]
     },
     "execution_count": 7,
     "metadata": {},
     "output_type": "execute_result"
    }
   ],
   "source": [
    "data.keys()"
   ]
  },
  {
   "cell_type": "code",
   "execution_count": 11,
   "metadata": {},
   "outputs": [
    {
     "name": "stdout",
     "output_type": "stream",
     "text": [
      ".. _wine_dataset:\n",
      "\n",
      "Wine recognition dataset\n",
      "------------------------\n",
      "\n",
      "**Data Set Characteristics:**\n",
      "\n",
      "    :Number of Instances: 178 (50 in each of three classes)\n",
      "    :Number of Attributes: 13 numeric, predictive attributes and the class\n",
      "    :Attribute Information:\n",
      " \t\t- Alcohol\n",
      " \t\t- Malic acid\n",
      " \t\t- Ash\n",
      "\t\t- Alcalinity of ash  \n",
      " \t\t- Magnesium\n",
      "\t\t- Total phenols\n",
      " \t\t- Flavanoids\n",
      " \t\t- Nonflavanoid phenols\n",
      " \t\t- Proanthocyanins\n",
      "\t\t- Color intensity\n",
      " \t\t- Hue\n",
      " \t\t- OD280/OD315 of diluted wines\n",
      " \t\t- Proline\n",
      "\n",
      "    - class:\n",
      "            - class_0\n",
      "            - class_1\n",
      "            - class_2\n",
      "\t\t\n",
      "    :Summary Statistics:\n",
      "    \n",
      "    ============================= ==== ===== ======= =====\n",
      "                                   Min   Max   Mean     SD\n",
      "    ============================= ==== ===== ======= =====\n",
      "    Alcohol:                      11.0  14.8    13.0   0.8\n",
      "    Malic Acid:                   0.74  5.80    2.34  1.12\n",
      "    Ash:                          1.36  3.23    2.36  0.27\n",
      "    Alcalinity of Ash:            10.6  30.0    19.5   3.3\n",
      "    Magnesium:                    70.0 162.0    99.7  14.3\n",
      "    Total Phenols:                0.98  3.88    2.29  0.63\n",
      "    Flavanoids:                   0.34  5.08    2.03  1.00\n",
      "    Nonflavanoid Phenols:         0.13  0.66    0.36  0.12\n",
      "    Proanthocyanins:              0.41  3.58    1.59  0.57\n",
      "    Colour Intensity:              1.3  13.0     5.1   2.3\n",
      "    Hue:                          0.48  1.71    0.96  0.23\n",
      "    OD280/OD315 of diluted wines: 1.27  4.00    2.61  0.71\n",
      "    Proline:                       278  1680     746   315\n",
      "    ============================= ==== ===== ======= =====\n",
      "\n",
      "    :Missing Attribute Values: None\n",
      "    :Class Distribution: class_0 (59), class_1 (71), class_2 (48)\n",
      "    :Creator: R.A. Fisher\n",
      "    :Donor: Michael Marshall (MARSHALL%PLU@io.arc.nasa.gov)\n",
      "    :Date: July, 1988\n",
      "\n",
      "This is a copy of UCI ML Wine recognition datasets.\n",
      "https://archive.ics.uci.edu/ml/machine-learning-databases/wine/wine.data\n",
      "\n",
      "The data is the results of a chemical analysis of wines grown in the same\n",
      "region in Italy by three different cultivators. There are thirteen different\n",
      "measurements taken for different constituents found in the three types of\n",
      "wine.\n",
      "\n",
      "Original Owners: \n",
      "\n",
      "Forina, M. et al, PARVUS - \n",
      "An Extendible Package for Data Exploration, Classification and Correlation. \n",
      "Institute of Pharmaceutical and Food Analysis and Technologies,\n",
      "Via Brigata Salerno, 16147 Genoa, Italy.\n",
      "\n",
      "Citation:\n",
      "\n",
      "Lichman, M. (2013). UCI Machine Learning Repository\n",
      "[https://archive.ics.uci.edu/ml]. Irvine, CA: University of California,\n",
      "School of Information and Computer Science. \n",
      "\n",
      ".. topic:: References\n",
      "\n",
      "  (1) S. Aeberhard, D. Coomans and O. de Vel, \n",
      "  Comparison of Classifiers in High Dimensional Settings, \n",
      "  Tech. Rep. no. 92-02, (1992), Dept. of Computer Science and Dept. of  \n",
      "  Mathematics and Statistics, James Cook University of North Queensland. \n",
      "  (Also submitted to Technometrics). \n",
      "\n",
      "  The data was used with many others for comparing various \n",
      "  classifiers. The classes are separable, though only RDA \n",
      "  has achieved 100% correct classification. \n",
      "  (RDA : 100%, QDA 99.4%, LDA 98.9%, 1NN 96.1% (z-transformed data)) \n",
      "  (All results using the leave-one-out technique) \n",
      "\n",
      "  (2) S. Aeberhard, D. Coomans and O. de Vel, \n",
      "  \"THE CLASSIFICATION PERFORMANCE OF RDA\" \n",
      "  Tech. Rep. no. 92-01, (1992), Dept. of Computer Science and Dept. of \n",
      "  Mathematics and Statistics, James Cook University of North Queensland. \n",
      "  (Also submitted to Journal of Chemometrics).\n",
      "\n"
     ]
    }
   ],
   "source": [
    "#Description of the wine dataset.\n",
    "print(data.DESCR)"
   ]
  },
  {
   "cell_type": "code",
   "execution_count": 19,
   "metadata": {},
   "outputs": [],
   "source": [
    "X = pd.DataFrame(data.data)\n",
    "y = data.target"
   ]
  },
  {
   "cell_type": "code",
   "execution_count": 29,
   "metadata": {},
   "outputs": [
    {
     "data": {
      "text/plain": [
       "(178, 13)"
      ]
     },
     "execution_count": 29,
     "metadata": {},
     "output_type": "execute_result"
    }
   ],
   "source": [
    "X.shape"
   ]
  },
  {
   "cell_type": "code",
   "execution_count": 30,
   "metadata": {},
   "outputs": [
    {
     "data": {
      "text/html": [
       "<div>\n",
       "<style scoped>\n",
       "    .dataframe tbody tr th:only-of-type {\n",
       "        vertical-align: middle;\n",
       "    }\n",
       "\n",
       "    .dataframe tbody tr th {\n",
       "        vertical-align: top;\n",
       "    }\n",
       "\n",
       "    .dataframe thead th {\n",
       "        text-align: right;\n",
       "    }\n",
       "</style>\n",
       "<table border=\"1\" class=\"dataframe\">\n",
       "  <thead>\n",
       "    <tr style=\"text-align: right;\">\n",
       "      <th></th>\n",
       "      <th>alcohol</th>\n",
       "      <th>malic_acid</th>\n",
       "      <th>ash</th>\n",
       "      <th>alcalinity_of_ash</th>\n",
       "      <th>magnesium</th>\n",
       "      <th>total_phenols</th>\n",
       "      <th>flavanoids</th>\n",
       "      <th>nonflavanoid_phenols</th>\n",
       "      <th>proanthocyanins</th>\n",
       "      <th>color_intensity</th>\n",
       "      <th>hue</th>\n",
       "      <th>od280/od315_of_diluted_wines</th>\n",
       "      <th>proline</th>\n",
       "    </tr>\n",
       "  </thead>\n",
       "  <tbody>\n",
       "    <tr>\n",
       "      <td>0</td>\n",
       "      <td>14.23</td>\n",
       "      <td>1.71</td>\n",
       "      <td>2.43</td>\n",
       "      <td>15.6</td>\n",
       "      <td>127.0</td>\n",
       "      <td>2.80</td>\n",
       "      <td>3.06</td>\n",
       "      <td>0.28</td>\n",
       "      <td>2.29</td>\n",
       "      <td>5.64</td>\n",
       "      <td>1.04</td>\n",
       "      <td>3.92</td>\n",
       "      <td>1065.0</td>\n",
       "    </tr>\n",
       "    <tr>\n",
       "      <td>1</td>\n",
       "      <td>13.20</td>\n",
       "      <td>1.78</td>\n",
       "      <td>2.14</td>\n",
       "      <td>11.2</td>\n",
       "      <td>100.0</td>\n",
       "      <td>2.65</td>\n",
       "      <td>2.76</td>\n",
       "      <td>0.26</td>\n",
       "      <td>1.28</td>\n",
       "      <td>4.38</td>\n",
       "      <td>1.05</td>\n",
       "      <td>3.40</td>\n",
       "      <td>1050.0</td>\n",
       "    </tr>\n",
       "    <tr>\n",
       "      <td>2</td>\n",
       "      <td>13.16</td>\n",
       "      <td>2.36</td>\n",
       "      <td>2.67</td>\n",
       "      <td>18.6</td>\n",
       "      <td>101.0</td>\n",
       "      <td>2.80</td>\n",
       "      <td>3.24</td>\n",
       "      <td>0.30</td>\n",
       "      <td>2.81</td>\n",
       "      <td>5.68</td>\n",
       "      <td>1.03</td>\n",
       "      <td>3.17</td>\n",
       "      <td>1185.0</td>\n",
       "    </tr>\n",
       "    <tr>\n",
       "      <td>3</td>\n",
       "      <td>14.37</td>\n",
       "      <td>1.95</td>\n",
       "      <td>2.50</td>\n",
       "      <td>16.8</td>\n",
       "      <td>113.0</td>\n",
       "      <td>3.85</td>\n",
       "      <td>3.49</td>\n",
       "      <td>0.24</td>\n",
       "      <td>2.18</td>\n",
       "      <td>7.80</td>\n",
       "      <td>0.86</td>\n",
       "      <td>3.45</td>\n",
       "      <td>1480.0</td>\n",
       "    </tr>\n",
       "    <tr>\n",
       "      <td>4</td>\n",
       "      <td>13.24</td>\n",
       "      <td>2.59</td>\n",
       "      <td>2.87</td>\n",
       "      <td>21.0</td>\n",
       "      <td>118.0</td>\n",
       "      <td>2.80</td>\n",
       "      <td>2.69</td>\n",
       "      <td>0.39</td>\n",
       "      <td>1.82</td>\n",
       "      <td>4.32</td>\n",
       "      <td>1.04</td>\n",
       "      <td>2.93</td>\n",
       "      <td>735.0</td>\n",
       "    </tr>\n",
       "  </tbody>\n",
       "</table>\n",
       "</div>"
      ],
      "text/plain": [
       "   alcohol  malic_acid   ash  alcalinity_of_ash  magnesium  total_phenols  \\\n",
       "0    14.23        1.71  2.43               15.6      127.0           2.80   \n",
       "1    13.20        1.78  2.14               11.2      100.0           2.65   \n",
       "2    13.16        2.36  2.67               18.6      101.0           2.80   \n",
       "3    14.37        1.95  2.50               16.8      113.0           3.85   \n",
       "4    13.24        2.59  2.87               21.0      118.0           2.80   \n",
       "\n",
       "   flavanoids  nonflavanoid_phenols  proanthocyanins  color_intensity   hue  \\\n",
       "0        3.06                  0.28             2.29             5.64  1.04   \n",
       "1        2.76                  0.26             1.28             4.38  1.05   \n",
       "2        3.24                  0.30             2.81             5.68  1.03   \n",
       "3        3.49                  0.24             2.18             7.80  0.86   \n",
       "4        2.69                  0.39             1.82             4.32  1.04   \n",
       "\n",
       "   od280/od315_of_diluted_wines  proline  \n",
       "0                          3.92   1065.0  \n",
       "1                          3.40   1050.0  \n",
       "2                          3.17   1185.0  \n",
       "3                          3.45   1480.0  \n",
       "4                          2.93    735.0  "
      ]
     },
     "execution_count": 30,
     "metadata": {},
     "output_type": "execute_result"
    }
   ],
   "source": [
    "X.columns = data.feature_names\n",
    "X.head()"
   ]
  },
  {
   "cell_type": "code",
   "execution_count": 31,
   "metadata": {},
   "outputs": [
    {
     "data": {
      "text/plain": [
       "alcohol                         0\n",
       "malic_acid                      0\n",
       "ash                             0\n",
       "alcalinity_of_ash               0\n",
       "magnesium                       0\n",
       "total_phenols                   0\n",
       "flavanoids                      0\n",
       "nonflavanoid_phenols            0\n",
       "proanthocyanins                 0\n",
       "color_intensity                 0\n",
       "hue                             0\n",
       "od280/od315_of_diluted_wines    0\n",
       "proline                         0\n",
       "dtype: int64"
      ]
     },
     "execution_count": 31,
     "metadata": {},
     "output_type": "execute_result"
    }
   ],
   "source": [
    "X.isnull().sum()  #chech whether null values present in the dataset "
   ]
  },
  {
   "cell_type": "code",
   "execution_count": 32,
   "metadata": {},
   "outputs": [
    {
     "data": {
      "text/plain": [
       "((142, 13), (36, 13))"
      ]
     },
     "execution_count": 32,
     "metadata": {},
     "output_type": "execute_result"
    }
   ],
   "source": [
    "# train_test_split\n",
    "X_train, X_test, y_train, y_test = train_test_split(X, y, test_size = 0.2, random_state = 0)\n",
    "X_train.shape, X_test.shape"
   ]
  },
  {
   "cell_type": "markdown",
   "metadata": {},
   "source": [
    "## Step Forward Feature Selection (SFS)\n"
   ]
  },
  {
   "cell_type": "raw",
   "metadata": {},
   "source": [
    "Here, we are using SequentialFeatureSelector() and passing Random Forest Classifier in this we are passing number of estimators, random_state and number of jobs.\n",
    "\n",
    "k number of features are the required number of features.\n",
    "In this case, since it is forward step method, forward is equal to True.\n",
    "For verbose it is for log here we are using 2.\n",
    "Cross validation set,here we are choosing as 4.\n",
    "Number of jobs means how many cores we will use, here -1 means use all the available core in this system."
   ]
  },
  {
   "cell_type": "code",
   "execution_count": 33,
   "metadata": {},
   "outputs": [
    {
     "name": "stderr",
     "output_type": "stream",
     "text": [
      "[Parallel(n_jobs=-1)]: Using backend LokyBackend with 8 concurrent workers.\n",
      "[Parallel(n_jobs=-1)]: Done   5 out of  13 | elapsed:    3.0s remaining:    4.8s\n",
      "[Parallel(n_jobs=-1)]: Done  13 out of  13 | elapsed:    4.0s finished\n",
      "\n",
      "[2021-01-20 17:09:31] Features: 1/7 -- score: 0.7744132788250435[Parallel(n_jobs=-1)]: Using backend LokyBackend with 8 concurrent workers.\n",
      "[Parallel(n_jobs=-1)]: Done   4 out of  12 | elapsed:    1.0s remaining:    2.1s\n",
      "[Parallel(n_jobs=-1)]: Done  12 out of  12 | elapsed:    2.1s finished\n",
      "\n",
      "[2021-01-20 17:09:33] Features: 2/7 -- score: 0.965233931410402[Parallel(n_jobs=-1)]: Using backend LokyBackend with 8 concurrent workers.\n",
      "[Parallel(n_jobs=-1)]: Done   2 out of  11 | elapsed:    0.9s remaining:    4.6s\n",
      "[Parallel(n_jobs=-1)]: Done   8 out of  11 | elapsed:    1.1s remaining:    0.3s\n",
      "[Parallel(n_jobs=-1)]: Done  11 out of  11 | elapsed:    2.0s finished\n",
      "\n",
      "[2021-01-20 17:09:35] Features: 3/7 -- score: 0.9861003861003861[Parallel(n_jobs=-1)]: Using backend LokyBackend with 8 concurrent workers.\n",
      "[Parallel(n_jobs=-1)]: Done   7 out of  10 | elapsed:    1.0s remaining:    0.4s\n",
      "[Parallel(n_jobs=-1)]: Done  10 out of  10 | elapsed:    2.0s finished\n",
      "\n",
      "[2021-01-20 17:09:38] Features: 4/7 -- score: 0.9793543543543544[Parallel(n_jobs=-1)]: Using backend LokyBackend with 8 concurrent workers.\n",
      "[Parallel(n_jobs=-1)]: Done   4 out of   9 | elapsed:    1.1s remaining:    1.4s\n",
      "[Parallel(n_jobs=-1)]: Done   9 out of   9 | elapsed:    2.0s remaining:    0.0s\n",
      "[Parallel(n_jobs=-1)]: Done   9 out of   9 | elapsed:    2.0s finished\n",
      "\n",
      "[2021-01-20 17:09:40] Features: 5/7 -- score: 0.9932432432432432[Parallel(n_jobs=-1)]: Using backend LokyBackend with 8 concurrent workers.\n",
      "[Parallel(n_jobs=-1)]: Done   3 out of   8 | elapsed:    0.9s remaining:    1.6s\n",
      "[Parallel(n_jobs=-1)]: Done   8 out of   8 | elapsed:    1.1s remaining:    0.0s\n",
      "[Parallel(n_jobs=-1)]: Done   8 out of   8 | elapsed:    1.1s finished\n",
      "\n",
      "[2021-01-20 17:09:41] Features: 6/7 -- score: 0.9862987987987988[Parallel(n_jobs=-1)]: Using backend LokyBackend with 8 concurrent workers.\n",
      "[Parallel(n_jobs=-1)]: Done   4 out of   7 | elapsed:    1.0s remaining:    0.7s\n",
      "[Parallel(n_jobs=-1)]: Done   7 out of   7 | elapsed:    1.1s finished\n",
      "\n",
      "[2021-01-20 17:09:42] Features: 7/7 -- score: 0.9932432432432432"
     ]
    }
   ],
   "source": [
    "sfs = SFS(RandomForestClassifier(n_estimators=100, random_state=0, n_jobs = -1),\n",
    "         k_features = 7,\n",
    "          forward= True,\n",
    "          floating = False,\n",
    "          verbose= 2,\n",
    "          scoring= 'accuracy',\n",
    "          cv = 4,\n",
    "          n_jobs= -1\n",
    "         ).fit(X_train, y_train)"
   ]
  },
  {
   "cell_type": "code",
   "execution_count": 34,
   "metadata": {},
   "outputs": [
    {
     "data": {
      "text/plain": [
       "('alcohol',\n",
       " 'ash',\n",
       " 'alcalinity_of_ash',\n",
       " 'magnesium',\n",
       " 'flavanoids',\n",
       " 'color_intensity',\n",
       " 'od280/od315_of_diluted_wines')"
      ]
     },
     "execution_count": 34,
     "metadata": {},
     "output_type": "execute_result"
    }
   ],
   "source": [
    "sfs.k_feature_names_"
   ]
  },
  {
   "cell_type": "code",
   "execution_count": 35,
   "metadata": {},
   "outputs": [
    {
     "data": {
      "text/plain": [
       "(0, 2, 3, 4, 6, 9, 11)"
      ]
     },
     "execution_count": 35,
     "metadata": {},
     "output_type": "execute_result"
    }
   ],
   "source": [
    "sfs.k_feature_idx_"
   ]
  },
  {
   "cell_type": "code",
   "execution_count": 36,
   "metadata": {},
   "outputs": [
    {
     "data": {
      "text/plain": [
       "0.9932432432432432"
      ]
     },
     "execution_count": 36,
     "metadata": {},
     "output_type": "execute_result"
    }
   ],
   "source": [
    "sfs.k_score_"
   ]
  },
  {
   "cell_type": "code",
   "execution_count": 37,
   "metadata": {},
   "outputs": [
    {
     "data": {
      "text/html": [
       "<div>\n",
       "<style scoped>\n",
       "    .dataframe tbody tr th:only-of-type {\n",
       "        vertical-align: middle;\n",
       "    }\n",
       "\n",
       "    .dataframe tbody tr th {\n",
       "        vertical-align: top;\n",
       "    }\n",
       "\n",
       "    .dataframe thead th {\n",
       "        text-align: right;\n",
       "    }\n",
       "</style>\n",
       "<table border=\"1\" class=\"dataframe\">\n",
       "  <thead>\n",
       "    <tr style=\"text-align: right;\">\n",
       "      <th></th>\n",
       "      <th>feature_idx</th>\n",
       "      <th>cv_scores</th>\n",
       "      <th>avg_score</th>\n",
       "      <th>feature_names</th>\n",
       "      <th>ci_bound</th>\n",
       "      <th>std_dev</th>\n",
       "      <th>std_err</th>\n",
       "    </tr>\n",
       "  </thead>\n",
       "  <tbody>\n",
       "    <tr>\n",
       "      <td>1</td>\n",
       "      <td>(6,)</td>\n",
       "      <td>[0.7567567567567568, 0.8333333333333334, 0.742...</td>\n",
       "      <td>0.774413</td>\n",
       "      <td>(flavanoids,)</td>\n",
       "      <td>0.0559516</td>\n",
       "      <td>0.0349047</td>\n",
       "      <td>0.0201522</td>\n",
       "    </tr>\n",
       "    <tr>\n",
       "      <td>2</td>\n",
       "      <td>(6, 9)</td>\n",
       "      <td>[0.918918918918919, 1.0, 0.9714285714285714, 0...</td>\n",
       "      <td>0.965234</td>\n",
       "      <td>(flavanoids, color_intensity)</td>\n",
       "      <td>0.0468773</td>\n",
       "      <td>0.0292438</td>\n",
       "      <td>0.0168839</td>\n",
       "    </tr>\n",
       "    <tr>\n",
       "      <td>3</td>\n",
       "      <td>(4, 6, 9)</td>\n",
       "      <td>[0.972972972972973, 1.0, 0.9714285714285714, 1.0]</td>\n",
       "      <td>0.9861</td>\n",
       "      <td>(magnesium, flavanoids, color_intensity)</td>\n",
       "      <td>0.022298</td>\n",
       "      <td>0.0139103</td>\n",
       "      <td>0.00803114</td>\n",
       "    </tr>\n",
       "    <tr>\n",
       "      <td>4</td>\n",
       "      <td>(0, 4, 6, 9)</td>\n",
       "      <td>[0.972972972972973, 0.9444444444444444, 1.0, 1.0]</td>\n",
       "      <td>0.979354</td>\n",
       "      <td>(alcohol, magnesium, flavanoids, color_intensity)</td>\n",
       "      <td>0.0368329</td>\n",
       "      <td>0.0229778</td>\n",
       "      <td>0.0132662</td>\n",
       "    </tr>\n",
       "    <tr>\n",
       "      <td>5</td>\n",
       "      <td>(0, 4, 6, 9, 11)</td>\n",
       "      <td>[0.972972972972973, 1.0, 1.0, 1.0]</td>\n",
       "      <td>0.993243</td>\n",
       "      <td>(alcohol, magnesium, flavanoids, color_intensi...</td>\n",
       "      <td>0.0187598</td>\n",
       "      <td>0.011703</td>\n",
       "      <td>0.00675676</td>\n",
       "    </tr>\n",
       "    <tr>\n",
       "      <td>6</td>\n",
       "      <td>(0, 2, 4, 6, 9, 11)</td>\n",
       "      <td>[0.972972972972973, 0.9722222222222222, 1.0, 1.0]</td>\n",
       "      <td>0.986299</td>\n",
       "      <td>(alcohol, ash, magnesium, flavanoids, color_in...</td>\n",
       "      <td>0.0219669</td>\n",
       "      <td>0.0137038</td>\n",
       "      <td>0.00791188</td>\n",
       "    </tr>\n",
       "    <tr>\n",
       "      <td>7</td>\n",
       "      <td>(0, 2, 3, 4, 6, 9, 11)</td>\n",
       "      <td>[0.972972972972973, 1.0, 1.0, 1.0]</td>\n",
       "      <td>0.993243</td>\n",
       "      <td>(alcohol, ash, alcalinity_of_ash, magnesium, f...</td>\n",
       "      <td>0.0187598</td>\n",
       "      <td>0.011703</td>\n",
       "      <td>0.00675676</td>\n",
       "    </tr>\n",
       "  </tbody>\n",
       "</table>\n",
       "</div>"
      ],
      "text/plain": [
       "              feature_idx                                          cv_scores  \\\n",
       "1                    (6,)  [0.7567567567567568, 0.8333333333333334, 0.742...   \n",
       "2                  (6, 9)  [0.918918918918919, 1.0, 0.9714285714285714, 0...   \n",
       "3               (4, 6, 9)  [0.972972972972973, 1.0, 0.9714285714285714, 1.0]   \n",
       "4            (0, 4, 6, 9)  [0.972972972972973, 0.9444444444444444, 1.0, 1.0]   \n",
       "5        (0, 4, 6, 9, 11)                 [0.972972972972973, 1.0, 1.0, 1.0]   \n",
       "6     (0, 2, 4, 6, 9, 11)  [0.972972972972973, 0.9722222222222222, 1.0, 1.0]   \n",
       "7  (0, 2, 3, 4, 6, 9, 11)                 [0.972972972972973, 1.0, 1.0, 1.0]   \n",
       "\n",
       "  avg_score                                      feature_names   ci_bound  \\\n",
       "1  0.774413                                      (flavanoids,)  0.0559516   \n",
       "2  0.965234                      (flavanoids, color_intensity)  0.0468773   \n",
       "3    0.9861           (magnesium, flavanoids, color_intensity)   0.022298   \n",
       "4  0.979354  (alcohol, magnesium, flavanoids, color_intensity)  0.0368329   \n",
       "5  0.993243  (alcohol, magnesium, flavanoids, color_intensi...  0.0187598   \n",
       "6  0.986299  (alcohol, ash, magnesium, flavanoids, color_in...  0.0219669   \n",
       "7  0.993243  (alcohol, ash, alcalinity_of_ash, magnesium, f...  0.0187598   \n",
       "\n",
       "     std_dev     std_err  \n",
       "1  0.0349047   0.0201522  \n",
       "2  0.0292438   0.0168839  \n",
       "3  0.0139103  0.00803114  \n",
       "4  0.0229778   0.0132662  \n",
       "5   0.011703  0.00675676  \n",
       "6  0.0137038  0.00791188  \n",
       "7   0.011703  0.00675676  "
      ]
     },
     "execution_count": 37,
     "metadata": {},
     "output_type": "execute_result"
    }
   ],
   "source": [
    "pd.DataFrame.from_dict(sfs.get_metric_dict()).T"
   ]
  },
  {
   "cell_type": "code",
   "execution_count": 38,
   "metadata": {},
   "outputs": [
    {
     "name": "stderr",
     "output_type": "stream",
     "text": [
      "[Parallel(n_jobs=-1)]: Using backend LokyBackend with 8 concurrent workers.\n",
      "[Parallel(n_jobs=-1)]: Done   5 out of  13 | elapsed:    1.0s remaining:    1.6s\n",
      "[Parallel(n_jobs=-1)]: Done  13 out of  13 | elapsed:    2.1s finished\n",
      "\n",
      "[2021-01-20 17:14:23] Features: 1/8 -- score: 0.7744132788250435[Parallel(n_jobs=-1)]: Using backend LokyBackend with 8 concurrent workers.\n",
      "[Parallel(n_jobs=-1)]: Done   4 out of  12 | elapsed:    1.0s remaining:    2.0s\n",
      "[Parallel(n_jobs=-1)]: Done  12 out of  12 | elapsed:    2.1s finished\n",
      "\n",
      "[2021-01-20 17:14:25] Features: 2/8 -- score: 0.965233931410402[Parallel(n_jobs=-1)]: Using backend LokyBackend with 8 concurrent workers.\n",
      "[Parallel(n_jobs=-1)]: Done   2 out of  11 | elapsed:    1.0s remaining:    4.8s\n",
      "[Parallel(n_jobs=-1)]: Done   8 out of  11 | elapsed:    1.1s remaining:    0.3s\n",
      "[Parallel(n_jobs=-1)]: Done  11 out of  11 | elapsed:    2.1s finished\n",
      "\n",
      "[2021-01-20 17:14:27] Features: 3/8 -- score: 0.9861003861003861[Parallel(n_jobs=-1)]: Using backend LokyBackend with 8 concurrent workers.\n",
      "[Parallel(n_jobs=-1)]: Done   7 out of  10 | elapsed:    1.1s remaining:    0.4s\n",
      "[Parallel(n_jobs=-1)]: Done  10 out of  10 | elapsed:    2.2s finished\n",
      "\n",
      "[2021-01-20 17:14:30] Features: 4/8 -- score: 0.9793543543543544[Parallel(n_jobs=-1)]: Using backend LokyBackend with 8 concurrent workers.\n",
      "[Parallel(n_jobs=-1)]: Done   4 out of   9 | elapsed:    1.0s remaining:    1.3s\n",
      "[Parallel(n_jobs=-1)]: Done   9 out of   9 | elapsed:    1.9s remaining:    0.0s\n",
      "[Parallel(n_jobs=-1)]: Done   9 out of   9 | elapsed:    1.9s finished\n",
      "\n",
      "[2021-01-20 17:14:32] Features: 5/8 -- score: 0.9932432432432432[Parallel(n_jobs=-1)]: Using backend LokyBackend with 8 concurrent workers.\n",
      "[Parallel(n_jobs=-1)]: Done   3 out of   8 | elapsed:    0.9s remaining:    1.6s\n",
      "[Parallel(n_jobs=-1)]: Done   8 out of   8 | elapsed:    1.1s remaining:    0.0s\n",
      "[Parallel(n_jobs=-1)]: Done   8 out of   8 | elapsed:    1.1s finished\n",
      "\n",
      "[2021-01-20 17:14:33] Features: 6/8 -- score: 0.9862987987987988[Parallel(n_jobs=-1)]: Using backend LokyBackend with 8 concurrent workers.\n",
      "[Parallel(n_jobs=-1)]: Done   4 out of   7 | elapsed:    1.1s remaining:    0.8s\n",
      "[Parallel(n_jobs=-1)]: Done   7 out of   7 | elapsed:    1.2s finished\n",
      "\n",
      "[2021-01-20 17:14:34] Features: 7/8 -- score: 0.9932432432432432[Parallel(n_jobs=-1)]: Using backend LokyBackend with 8 concurrent workers.\n",
      "[Parallel(n_jobs=-1)]: Done   3 out of   6 | elapsed:    1.0s remaining:    1.0s\n",
      "[Parallel(n_jobs=-1)]: Done   6 out of   6 | elapsed:    1.1s finished\n",
      "\n",
      "[2021-01-20 17:14:35] Features: 8/8 -- score: 0.9864864864864865"
     ]
    }
   ],
   "source": [
    "sfs = SFS(RandomForestClassifier(n_estimators=100, random_state=0, n_jobs = -1),\n",
    "         k_features = (1, 8),\n",
    "          forward= True,\n",
    "          floating = False,\n",
    "          verbose= 2,\n",
    "          scoring= 'accuracy',\n",
    "          cv = 4,\n",
    "          n_jobs= -1\n",
    "         ).fit(X_train, y_train)"
   ]
  },
  {
   "cell_type": "code",
   "execution_count": 39,
   "metadata": {},
   "outputs": [
    {
     "data": {
      "text/plain": [
       "0.9932432432432432"
      ]
     },
     "execution_count": 39,
     "metadata": {},
     "output_type": "execute_result"
    }
   ],
   "source": [
    "sfs.k_score_"
   ]
  },
  {
   "cell_type": "code",
   "execution_count": 40,
   "metadata": {},
   "outputs": [
    {
     "data": {
      "text/plain": [
       "('alcohol',\n",
       " 'magnesium',\n",
       " 'flavanoids',\n",
       " 'color_intensity',\n",
       " 'od280/od315_of_diluted_wines')"
      ]
     },
     "execution_count": 40,
     "metadata": {},
     "output_type": "execute_result"
    }
   ],
   "source": [
    "sfs.k_feature_names_"
   ]
  },
  {
   "cell_type": "code",
   "execution_count": 41,
   "metadata": {},
   "outputs": [
    {
     "data": {
      "text/html": [
       "<div>\n",
       "<style scoped>\n",
       "    .dataframe tbody tr th:only-of-type {\n",
       "        vertical-align: middle;\n",
       "    }\n",
       "\n",
       "    .dataframe tbody tr th {\n",
       "        vertical-align: top;\n",
       "    }\n",
       "\n",
       "    .dataframe thead th {\n",
       "        text-align: right;\n",
       "    }\n",
       "</style>\n",
       "<table border=\"1\" class=\"dataframe\">\n",
       "  <thead>\n",
       "    <tr style=\"text-align: right;\">\n",
       "      <th></th>\n",
       "      <th>feature_idx</th>\n",
       "      <th>cv_scores</th>\n",
       "      <th>avg_score</th>\n",
       "      <th>feature_names</th>\n",
       "      <th>ci_bound</th>\n",
       "      <th>std_dev</th>\n",
       "      <th>std_err</th>\n",
       "    </tr>\n",
       "  </thead>\n",
       "  <tbody>\n",
       "    <tr>\n",
       "      <td>1</td>\n",
       "      <td>(6,)</td>\n",
       "      <td>[0.7567567567567568, 0.8333333333333334, 0.742...</td>\n",
       "      <td>0.774413</td>\n",
       "      <td>(flavanoids,)</td>\n",
       "      <td>0.0559516</td>\n",
       "      <td>0.0349047</td>\n",
       "      <td>0.0201522</td>\n",
       "    </tr>\n",
       "    <tr>\n",
       "      <td>2</td>\n",
       "      <td>(6, 9)</td>\n",
       "      <td>[0.918918918918919, 1.0, 0.9714285714285714, 0...</td>\n",
       "      <td>0.965234</td>\n",
       "      <td>(flavanoids, color_intensity)</td>\n",
       "      <td>0.0468773</td>\n",
       "      <td>0.0292438</td>\n",
       "      <td>0.0168839</td>\n",
       "    </tr>\n",
       "    <tr>\n",
       "      <td>3</td>\n",
       "      <td>(4, 6, 9)</td>\n",
       "      <td>[0.972972972972973, 1.0, 0.9714285714285714, 1.0]</td>\n",
       "      <td>0.9861</td>\n",
       "      <td>(magnesium, flavanoids, color_intensity)</td>\n",
       "      <td>0.022298</td>\n",
       "      <td>0.0139103</td>\n",
       "      <td>0.00803114</td>\n",
       "    </tr>\n",
       "    <tr>\n",
       "      <td>4</td>\n",
       "      <td>(0, 4, 6, 9)</td>\n",
       "      <td>[0.972972972972973, 0.9444444444444444, 1.0, 1.0]</td>\n",
       "      <td>0.979354</td>\n",
       "      <td>(alcohol, magnesium, flavanoids, color_intensity)</td>\n",
       "      <td>0.0368329</td>\n",
       "      <td>0.0229778</td>\n",
       "      <td>0.0132662</td>\n",
       "    </tr>\n",
       "    <tr>\n",
       "      <td>5</td>\n",
       "      <td>(0, 4, 6, 9, 11)</td>\n",
       "      <td>[0.972972972972973, 1.0, 1.0, 1.0]</td>\n",
       "      <td>0.993243</td>\n",
       "      <td>(alcohol, magnesium, flavanoids, color_intensi...</td>\n",
       "      <td>0.0187598</td>\n",
       "      <td>0.011703</td>\n",
       "      <td>0.00675676</td>\n",
       "    </tr>\n",
       "    <tr>\n",
       "      <td>6</td>\n",
       "      <td>(0, 2, 4, 6, 9, 11)</td>\n",
       "      <td>[0.972972972972973, 0.9722222222222222, 1.0, 1.0]</td>\n",
       "      <td>0.986299</td>\n",
       "      <td>(alcohol, ash, magnesium, flavanoids, color_in...</td>\n",
       "      <td>0.0219669</td>\n",
       "      <td>0.0137038</td>\n",
       "      <td>0.00791188</td>\n",
       "    </tr>\n",
       "    <tr>\n",
       "      <td>7</td>\n",
       "      <td>(0, 2, 3, 4, 6, 9, 11)</td>\n",
       "      <td>[0.972972972972973, 1.0, 1.0, 1.0]</td>\n",
       "      <td>0.993243</td>\n",
       "      <td>(alcohol, ash, alcalinity_of_ash, magnesium, f...</td>\n",
       "      <td>0.0187598</td>\n",
       "      <td>0.011703</td>\n",
       "      <td>0.00675676</td>\n",
       "    </tr>\n",
       "    <tr>\n",
       "      <td>8</td>\n",
       "      <td>(0, 2, 3, 4, 6, 9, 10, 11)</td>\n",
       "      <td>[0.9459459459459459, 1.0, 1.0, 1.0]</td>\n",
       "      <td>0.986486</td>\n",
       "      <td>(alcohol, ash, alcalinity_of_ash, magnesium, f...</td>\n",
       "      <td>0.0375195</td>\n",
       "      <td>0.0234061</td>\n",
       "      <td>0.0135135</td>\n",
       "    </tr>\n",
       "  </tbody>\n",
       "</table>\n",
       "</div>"
      ],
      "text/plain": [
       "                  feature_idx  \\\n",
       "1                        (6,)   \n",
       "2                      (6, 9)   \n",
       "3                   (4, 6, 9)   \n",
       "4                (0, 4, 6, 9)   \n",
       "5            (0, 4, 6, 9, 11)   \n",
       "6         (0, 2, 4, 6, 9, 11)   \n",
       "7      (0, 2, 3, 4, 6, 9, 11)   \n",
       "8  (0, 2, 3, 4, 6, 9, 10, 11)   \n",
       "\n",
       "                                           cv_scores avg_score  \\\n",
       "1  [0.7567567567567568, 0.8333333333333334, 0.742...  0.774413   \n",
       "2  [0.918918918918919, 1.0, 0.9714285714285714, 0...  0.965234   \n",
       "3  [0.972972972972973, 1.0, 0.9714285714285714, 1.0]    0.9861   \n",
       "4  [0.972972972972973, 0.9444444444444444, 1.0, 1.0]  0.979354   \n",
       "5                 [0.972972972972973, 1.0, 1.0, 1.0]  0.993243   \n",
       "6  [0.972972972972973, 0.9722222222222222, 1.0, 1.0]  0.986299   \n",
       "7                 [0.972972972972973, 1.0, 1.0, 1.0]  0.993243   \n",
       "8                [0.9459459459459459, 1.0, 1.0, 1.0]  0.986486   \n",
       "\n",
       "                                       feature_names   ci_bound    std_dev  \\\n",
       "1                                      (flavanoids,)  0.0559516  0.0349047   \n",
       "2                      (flavanoids, color_intensity)  0.0468773  0.0292438   \n",
       "3           (magnesium, flavanoids, color_intensity)   0.022298  0.0139103   \n",
       "4  (alcohol, magnesium, flavanoids, color_intensity)  0.0368329  0.0229778   \n",
       "5  (alcohol, magnesium, flavanoids, color_intensi...  0.0187598   0.011703   \n",
       "6  (alcohol, ash, magnesium, flavanoids, color_in...  0.0219669  0.0137038   \n",
       "7  (alcohol, ash, alcalinity_of_ash, magnesium, f...  0.0187598   0.011703   \n",
       "8  (alcohol, ash, alcalinity_of_ash, magnesium, f...  0.0375195  0.0234061   \n",
       "\n",
       "      std_err  \n",
       "1   0.0201522  \n",
       "2   0.0168839  \n",
       "3  0.00803114  \n",
       "4   0.0132662  \n",
       "5  0.00675676  \n",
       "6  0.00791188  \n",
       "7  0.00675676  \n",
       "8   0.0135135  "
      ]
     },
     "execution_count": 41,
     "metadata": {},
     "output_type": "execute_result"
    }
   ],
   "source": [
    "pd.DataFrame.from_dict(sfs.get_metric_dict()).T"
   ]
  },
  {
   "cell_type": "markdown",
   "metadata": {},
   "source": [
    "## Step Backward Selection (SBS)\n",
    "\n",
    "The only thing change here compared to Step Forward Selection, keep forward as False."
   ]
  },
  {
   "cell_type": "markdown",
   "metadata": {},
   "source": [
    "It is reverse process of Forward Step Selection method, intially it takes all the features and remove one by one every time. Finally it left with required number of features for the best accuracy."
   ]
  },
  {
   "cell_type": "code",
   "execution_count": 42,
   "metadata": {},
   "outputs": [
    {
     "name": "stderr",
     "output_type": "stream",
     "text": [
      "[Parallel(n_jobs=-1)]: Using backend LokyBackend with 8 concurrent workers.\n",
      "[Parallel(n_jobs=-1)]: Done   5 out of  13 | elapsed:    1.1s remaining:    1.8s\n",
      "[Parallel(n_jobs=-1)]: Done  13 out of  13 | elapsed:    2.1s finished\n",
      "\n",
      "[2021-01-20 17:24:59] Features: 12/1 -- score: 0.9862987987987988[Parallel(n_jobs=-1)]: Using backend LokyBackend with 8 concurrent workers.\n",
      "[Parallel(n_jobs=-1)]: Done   4 out of  12 | elapsed:    1.1s remaining:    2.2s\n",
      "[Parallel(n_jobs=-1)]: Done  12 out of  12 | elapsed:    2.2s finished\n",
      "\n",
      "[2021-01-20 17:25:01] Features: 11/1 -- score: 0.9862987987987988[Parallel(n_jobs=-1)]: Using backend LokyBackend with 8 concurrent workers.\n",
      "[Parallel(n_jobs=-1)]: Done   2 out of  11 | elapsed:    1.1s remaining:    5.1s\n",
      "[Parallel(n_jobs=-1)]: Done   8 out of  11 | elapsed:    1.1s remaining:    0.4s\n",
      "[Parallel(n_jobs=-1)]: Done  11 out of  11 | elapsed:    2.2s finished\n",
      "\n",
      "[2021-01-20 17:25:04] Features: 10/1 -- score: 0.9862987987987988[Parallel(n_jobs=-1)]: Using backend LokyBackend with 8 concurrent workers.\n",
      "[Parallel(n_jobs=-1)]: Done   7 out of  10 | elapsed:    1.1s remaining:    0.4s\n",
      "[Parallel(n_jobs=-1)]: Done  10 out of  10 | elapsed:    2.0s finished\n",
      "\n",
      "[2021-01-20 17:25:06] Features: 9/1 -- score: 0.9932432432432432[Parallel(n_jobs=-1)]: Using backend LokyBackend with 8 concurrent workers.\n",
      "[Parallel(n_jobs=-1)]: Done   4 out of   9 | elapsed:    1.0s remaining:    1.3s\n",
      "[Parallel(n_jobs=-1)]: Done   9 out of   9 | elapsed:    2.0s remaining:    0.0s\n",
      "[Parallel(n_jobs=-1)]: Done   9 out of   9 | elapsed:    2.0s finished\n",
      "\n",
      "[2021-01-20 17:25:08] Features: 8/1 -- score: 0.9862987987987988[Parallel(n_jobs=-1)]: Using backend LokyBackend with 8 concurrent workers.\n",
      "[Parallel(n_jobs=-1)]: Done   3 out of   8 | elapsed:    1.0s remaining:    1.7s\n",
      "[Parallel(n_jobs=-1)]: Done   8 out of   8 | elapsed:    1.1s remaining:    0.0s\n",
      "[Parallel(n_jobs=-1)]: Done   8 out of   8 | elapsed:    1.1s finished\n",
      "\n",
      "[2021-01-20 17:25:09] Features: 7/1 -- score: 0.9864864864864865[Parallel(n_jobs=-1)]: Using backend LokyBackend with 8 concurrent workers.\n",
      "[Parallel(n_jobs=-1)]: Done   4 out of   7 | elapsed:    1.0s remaining:    0.7s\n",
      "[Parallel(n_jobs=-1)]: Done   7 out of   7 | elapsed:    1.1s finished\n",
      "\n",
      "[2021-01-20 17:25:10] Features: 6/1 -- score: 0.9932432432432432[Parallel(n_jobs=-1)]: Using backend LokyBackend with 8 concurrent workers.\n",
      "[Parallel(n_jobs=-1)]: Done   3 out of   6 | elapsed:    1.0s remaining:    1.0s\n",
      "[Parallel(n_jobs=-1)]: Done   6 out of   6 | elapsed:    1.0s finished\n",
      "\n",
      "[2021-01-20 17:25:11] Features: 5/1 -- score: 0.9791559416559417[Parallel(n_jobs=-1)]: Using backend LokyBackend with 8 concurrent workers.\n",
      "[Parallel(n_jobs=-1)]: Done   2 out of   5 | elapsed:    0.9s remaining:    1.4s\n",
      "[Parallel(n_jobs=-1)]: Done   5 out of   5 | elapsed:    1.0s remaining:    0.0s\n",
      "[Parallel(n_jobs=-1)]: Done   5 out of   5 | elapsed:    1.0s finished\n",
      "\n",
      "[2021-01-20 17:25:12] Features: 4/1 -- score: 0.9787474449239155[Parallel(n_jobs=-1)]: Using backend LokyBackend with 8 concurrent workers.\n",
      "[Parallel(n_jobs=-1)]: Done   4 out of   4 | elapsed:    1.0s remaining:    0.0s\n",
      "[Parallel(n_jobs=-1)]: Done   4 out of   4 | elapsed:    1.0s finished\n",
      "\n",
      "[2021-01-20 17:25:14] Features: 3/1 -- score: 0.9861003861003861[Parallel(n_jobs=-1)]: Using backend LokyBackend with 8 concurrent workers.\n",
      "[Parallel(n_jobs=-1)]: Done   3 out of   3 | elapsed:    1.0s finished\n",
      "\n",
      "[2021-01-20 17:25:15] Features: 2/1 -- score: 0.965233931410402[Parallel(n_jobs=-1)]: Using backend LokyBackend with 8 concurrent workers.\n",
      "[Parallel(n_jobs=-1)]: Done   2 out of   2 | elapsed:    0.9s finished\n",
      "\n",
      "[2021-01-20 17:25:16] Features: 1/1 -- score: 0.7744132788250435"
     ]
    }
   ],
   "source": [
    "sbs = SFS(RandomForestClassifier(n_estimators=100, random_state=0, n_jobs = -1),\n",
    "         k_features = (1, 8),\n",
    "          forward= False,\n",
    "          floating = False,\n",
    "          verbose= 2,\n",
    "          scoring= 'accuracy',\n",
    "          cv = 4,\n",
    "          n_jobs= -1\n",
    "         ).fit(X_train, y_train)"
   ]
  },
  {
   "cell_type": "code",
   "execution_count": 43,
   "metadata": {},
   "outputs": [
    {
     "data": {
      "text/plain": [
       "('alcohol',\n",
       " 'malic_acid',\n",
       " 'magnesium',\n",
       " 'total_phenols',\n",
       " 'flavanoids',\n",
       " 'color_intensity')"
      ]
     },
     "execution_count": 43,
     "metadata": {},
     "output_type": "execute_result"
    }
   ],
   "source": [
    "sbs.k_feature_names_"
   ]
  },
  {
   "cell_type": "code",
   "execution_count": 44,
   "metadata": {},
   "outputs": [
    {
     "data": {
      "text/html": [
       "<div>\n",
       "<style scoped>\n",
       "    .dataframe tbody tr th:only-of-type {\n",
       "        vertical-align: middle;\n",
       "    }\n",
       "\n",
       "    .dataframe tbody tr th {\n",
       "        vertical-align: top;\n",
       "    }\n",
       "\n",
       "    .dataframe thead th {\n",
       "        text-align: right;\n",
       "    }\n",
       "</style>\n",
       "<table border=\"1\" class=\"dataframe\">\n",
       "  <thead>\n",
       "    <tr style=\"text-align: right;\">\n",
       "      <th></th>\n",
       "      <th>feature_idx</th>\n",
       "      <th>cv_scores</th>\n",
       "      <th>avg_score</th>\n",
       "      <th>feature_names</th>\n",
       "      <th>ci_bound</th>\n",
       "      <th>std_dev</th>\n",
       "      <th>std_err</th>\n",
       "    </tr>\n",
       "  </thead>\n",
       "  <tbody>\n",
       "    <tr>\n",
       "      <td>13</td>\n",
       "      <td>(0, 1, 2, 3, 4, 5, 6, 7, 8, 9, 10, 11, 12)</td>\n",
       "      <td>[0.972972972972973, 0.9722222222222222, 1.0, 1.0]</td>\n",
       "      <td>0.986299</td>\n",
       "      <td>(alcohol, malic_acid, ash, alcalinity_of_ash, ...</td>\n",
       "      <td>0.0219669</td>\n",
       "      <td>0.0137038</td>\n",
       "      <td>0.00791188</td>\n",
       "    </tr>\n",
       "    <tr>\n",
       "      <td>12</td>\n",
       "      <td>(0, 1, 2, 3, 4, 5, 6, 7, 9, 10, 11, 12)</td>\n",
       "      <td>[0.972972972972973, 0.9722222222222222, 1.0, 1.0]</td>\n",
       "      <td>0.986299</td>\n",
       "      <td>(alcohol, malic_acid, ash, alcalinity_of_ash, ...</td>\n",
       "      <td>0.0219669</td>\n",
       "      <td>0.0137038</td>\n",
       "      <td>0.00791188</td>\n",
       "    </tr>\n",
       "    <tr>\n",
       "      <td>11</td>\n",
       "      <td>(0, 1, 2, 3, 4, 5, 6, 7, 9, 11, 12)</td>\n",
       "      <td>[0.972972972972973, 0.9722222222222222, 1.0, 1.0]</td>\n",
       "      <td>0.986299</td>\n",
       "      <td>(alcohol, malic_acid, ash, alcalinity_of_ash, ...</td>\n",
       "      <td>0.0219669</td>\n",
       "      <td>0.0137038</td>\n",
       "      <td>0.00791188</td>\n",
       "    </tr>\n",
       "    <tr>\n",
       "      <td>10</td>\n",
       "      <td>(0, 1, 2, 3, 4, 5, 6, 9, 11, 12)</td>\n",
       "      <td>[0.972972972972973, 0.9722222222222222, 1.0, 1.0]</td>\n",
       "      <td>0.986299</td>\n",
       "      <td>(alcohol, malic_acid, ash, alcalinity_of_ash, ...</td>\n",
       "      <td>0.0219669</td>\n",
       "      <td>0.0137038</td>\n",
       "      <td>0.00791188</td>\n",
       "    </tr>\n",
       "    <tr>\n",
       "      <td>9</td>\n",
       "      <td>(0, 1, 2, 3, 4, 5, 6, 9, 11)</td>\n",
       "      <td>[0.972972972972973, 1.0, 1.0, 1.0]</td>\n",
       "      <td>0.993243</td>\n",
       "      <td>(alcohol, malic_acid, ash, alcalinity_of_ash, ...</td>\n",
       "      <td>0.0187598</td>\n",
       "      <td>0.011703</td>\n",
       "      <td>0.00675676</td>\n",
       "    </tr>\n",
       "    <tr>\n",
       "      <td>8</td>\n",
       "      <td>(0, 1, 2, 4, 5, 6, 9, 11)</td>\n",
       "      <td>[0.972972972972973, 0.9722222222222222, 1.0, 1.0]</td>\n",
       "      <td>0.986299</td>\n",
       "      <td>(alcohol, malic_acid, ash, magnesium, total_ph...</td>\n",
       "      <td>0.0219669</td>\n",
       "      <td>0.0137038</td>\n",
       "      <td>0.00791188</td>\n",
       "    </tr>\n",
       "    <tr>\n",
       "      <td>7</td>\n",
       "      <td>(0, 1, 4, 5, 6, 9, 11)</td>\n",
       "      <td>[0.9459459459459459, 1.0, 1.0, 1.0]</td>\n",
       "      <td>0.986486</td>\n",
       "      <td>(alcohol, malic_acid, magnesium, total_phenols...</td>\n",
       "      <td>0.0375195</td>\n",
       "      <td>0.0234061</td>\n",
       "      <td>0.0135135</td>\n",
       "    </tr>\n",
       "    <tr>\n",
       "      <td>6</td>\n",
       "      <td>(0, 1, 4, 5, 6, 9)</td>\n",
       "      <td>[0.972972972972973, 1.0, 1.0, 1.0]</td>\n",
       "      <td>0.993243</td>\n",
       "      <td>(alcohol, malic_acid, magnesium, total_phenols...</td>\n",
       "      <td>0.0187598</td>\n",
       "      <td>0.011703</td>\n",
       "      <td>0.00675676</td>\n",
       "    </tr>\n",
       "    <tr>\n",
       "      <td>5</td>\n",
       "      <td>(0, 4, 5, 6, 9)</td>\n",
       "      <td>[0.972972972972973, 0.9722222222222222, 0.9714...</td>\n",
       "      <td>0.979156</td>\n",
       "      <td>(alcohol, magnesium, total_phenols, flavanoids...</td>\n",
       "      <td>0.0193106</td>\n",
       "      <td>0.0120467</td>\n",
       "      <td>0.00695517</td>\n",
       "    </tr>\n",
       "    <tr>\n",
       "      <td>4</td>\n",
       "      <td>(4, 5, 6, 9)</td>\n",
       "      <td>[0.972972972972973, 1.0, 0.9714285714285714, 0...</td>\n",
       "      <td>0.978747</td>\n",
       "      <td>(magnesium, total_phenols, flavanoids, color_i...</td>\n",
       "      <td>0.0197166</td>\n",
       "      <td>0.0122999</td>\n",
       "      <td>0.00710137</td>\n",
       "    </tr>\n",
       "    <tr>\n",
       "      <td>3</td>\n",
       "      <td>(4, 6, 9)</td>\n",
       "      <td>[0.972972972972973, 1.0, 0.9714285714285714, 1.0]</td>\n",
       "      <td>0.9861</td>\n",
       "      <td>(magnesium, flavanoids, color_intensity)</td>\n",
       "      <td>0.022298</td>\n",
       "      <td>0.0139103</td>\n",
       "      <td>0.00803114</td>\n",
       "    </tr>\n",
       "    <tr>\n",
       "      <td>2</td>\n",
       "      <td>(6, 9)</td>\n",
       "      <td>[0.918918918918919, 1.0, 0.9714285714285714, 0...</td>\n",
       "      <td>0.965234</td>\n",
       "      <td>(flavanoids, color_intensity)</td>\n",
       "      <td>0.0468773</td>\n",
       "      <td>0.0292438</td>\n",
       "      <td>0.0168839</td>\n",
       "    </tr>\n",
       "    <tr>\n",
       "      <td>1</td>\n",
       "      <td>(6,)</td>\n",
       "      <td>[0.7567567567567568, 0.8333333333333334, 0.742...</td>\n",
       "      <td>0.774413</td>\n",
       "      <td>(flavanoids,)</td>\n",
       "      <td>0.0559516</td>\n",
       "      <td>0.0349047</td>\n",
       "      <td>0.0201522</td>\n",
       "    </tr>\n",
       "  </tbody>\n",
       "</table>\n",
       "</div>"
      ],
      "text/plain": [
       "                                   feature_idx  \\\n",
       "13  (0, 1, 2, 3, 4, 5, 6, 7, 8, 9, 10, 11, 12)   \n",
       "12     (0, 1, 2, 3, 4, 5, 6, 7, 9, 10, 11, 12)   \n",
       "11         (0, 1, 2, 3, 4, 5, 6, 7, 9, 11, 12)   \n",
       "10            (0, 1, 2, 3, 4, 5, 6, 9, 11, 12)   \n",
       "9                 (0, 1, 2, 3, 4, 5, 6, 9, 11)   \n",
       "8                    (0, 1, 2, 4, 5, 6, 9, 11)   \n",
       "7                       (0, 1, 4, 5, 6, 9, 11)   \n",
       "6                           (0, 1, 4, 5, 6, 9)   \n",
       "5                              (0, 4, 5, 6, 9)   \n",
       "4                                 (4, 5, 6, 9)   \n",
       "3                                    (4, 6, 9)   \n",
       "2                                       (6, 9)   \n",
       "1                                         (6,)   \n",
       "\n",
       "                                            cv_scores avg_score  \\\n",
       "13  [0.972972972972973, 0.9722222222222222, 1.0, 1.0]  0.986299   \n",
       "12  [0.972972972972973, 0.9722222222222222, 1.0, 1.0]  0.986299   \n",
       "11  [0.972972972972973, 0.9722222222222222, 1.0, 1.0]  0.986299   \n",
       "10  [0.972972972972973, 0.9722222222222222, 1.0, 1.0]  0.986299   \n",
       "9                  [0.972972972972973, 1.0, 1.0, 1.0]  0.993243   \n",
       "8   [0.972972972972973, 0.9722222222222222, 1.0, 1.0]  0.986299   \n",
       "7                 [0.9459459459459459, 1.0, 1.0, 1.0]  0.986486   \n",
       "6                  [0.972972972972973, 1.0, 1.0, 1.0]  0.993243   \n",
       "5   [0.972972972972973, 0.9722222222222222, 0.9714...  0.979156   \n",
       "4   [0.972972972972973, 1.0, 0.9714285714285714, 0...  0.978747   \n",
       "3   [0.972972972972973, 1.0, 0.9714285714285714, 1.0]    0.9861   \n",
       "2   [0.918918918918919, 1.0, 0.9714285714285714, 0...  0.965234   \n",
       "1   [0.7567567567567568, 0.8333333333333334, 0.742...  0.774413   \n",
       "\n",
       "                                        feature_names   ci_bound    std_dev  \\\n",
       "13  (alcohol, malic_acid, ash, alcalinity_of_ash, ...  0.0219669  0.0137038   \n",
       "12  (alcohol, malic_acid, ash, alcalinity_of_ash, ...  0.0219669  0.0137038   \n",
       "11  (alcohol, malic_acid, ash, alcalinity_of_ash, ...  0.0219669  0.0137038   \n",
       "10  (alcohol, malic_acid, ash, alcalinity_of_ash, ...  0.0219669  0.0137038   \n",
       "9   (alcohol, malic_acid, ash, alcalinity_of_ash, ...  0.0187598   0.011703   \n",
       "8   (alcohol, malic_acid, ash, magnesium, total_ph...  0.0219669  0.0137038   \n",
       "7   (alcohol, malic_acid, magnesium, total_phenols...  0.0375195  0.0234061   \n",
       "6   (alcohol, malic_acid, magnesium, total_phenols...  0.0187598   0.011703   \n",
       "5   (alcohol, magnesium, total_phenols, flavanoids...  0.0193106  0.0120467   \n",
       "4   (magnesium, total_phenols, flavanoids, color_i...  0.0197166  0.0122999   \n",
       "3            (magnesium, flavanoids, color_intensity)   0.022298  0.0139103   \n",
       "2                       (flavanoids, color_intensity)  0.0468773  0.0292438   \n",
       "1                                       (flavanoids,)  0.0559516  0.0349047   \n",
       "\n",
       "       std_err  \n",
       "13  0.00791188  \n",
       "12  0.00791188  \n",
       "11  0.00791188  \n",
       "10  0.00791188  \n",
       "9   0.00675676  \n",
       "8   0.00791188  \n",
       "7    0.0135135  \n",
       "6   0.00675676  \n",
       "5   0.00695517  \n",
       "4   0.00710137  \n",
       "3   0.00803114  \n",
       "2    0.0168839  \n",
       "1    0.0201522  "
      ]
     },
     "execution_count": 44,
     "metadata": {},
     "output_type": "execute_result"
    }
   ],
   "source": [
    "pd.DataFrame.from_dict(sbs.get_metric_dict()).T"
   ]
  },
  {
   "cell_type": "markdown",
   "metadata": {},
   "source": [
    "## Exhaustive Feature Selection (EFS)"
   ]
  },
  {
   "cell_type": "markdown",
   "metadata": {},
   "source": [
    "\n",
    "    It is also called as subset selection method.\n",
    "\n",
    "    It fits the model with each possible combinations of N features.\n",
    "    ( y = B0, y = B0 + B1.X1, y = C0 + C1.X2 )\n",
    "\n",
    "    It requires massive computational power.\n",
    "\n",
    "    It uses test error to evaluate model performance."
   ]
  },
  {
   "cell_type": "code",
   "execution_count": 45,
   "metadata": {},
   "outputs": [],
   "source": [
    "from mlxtend.feature_selection import ExhaustiveFeatureSelector as EFS"
   ]
  },
  {
   "cell_type": "code",
   "execution_count": 46,
   "metadata": {},
   "outputs": [
    {
     "name": "stderr",
     "output_type": "stream",
     "text": [
      "Features: 2002/2002"
     ]
    }
   ],
   "source": [
    "efs = EFS(RandomForestClassifier(n_estimators=100, random_state=0, n_jobs=-1),\n",
    "         min_features= 4,\n",
    "          max_features= 5,\n",
    "          scoring='accuracy',\n",
    "          cv = None,\n",
    "          n_jobs=-1\n",
    "         ).fit(X_train, y_train)"
   ]
  },
  {
   "cell_type": "code",
   "execution_count": 47,
   "metadata": {},
   "outputs": [
    {
     "data": {
      "text/plain": [
       "1.0"
      ]
     },
     "execution_count": 47,
     "metadata": {},
     "output_type": "execute_result"
    }
   ],
   "source": [
    "efs.best_score_"
   ]
  },
  {
   "cell_type": "code",
   "execution_count": 48,
   "metadata": {},
   "outputs": [
    {
     "data": {
      "text/plain": [
       "('alcohol', 'malic_acid', 'ash', 'alcalinity_of_ash')"
      ]
     },
     "execution_count": 48,
     "metadata": {},
     "output_type": "execute_result"
    }
   ],
   "source": [
    "efs.best_feature_names_"
   ]
  },
  {
   "cell_type": "code",
   "execution_count": null,
   "metadata": {},
   "outputs": [],
   "source": []
  }
 ],
 "metadata": {
  "kernelspec": {
   "display_name": "Python 3",
   "language": "python",
   "name": "python3"
  },
  "language_info": {
   "codemirror_mode": {
    "name": "ipython",
    "version": 3
   },
   "file_extension": ".py",
   "mimetype": "text/x-python",
   "name": "python",
   "nbconvert_exporter": "python",
   "pygments_lexer": "ipython3",
   "version": "3.7.4"
  }
 },
 "nbformat": 4,
 "nbformat_minor": 2
}
